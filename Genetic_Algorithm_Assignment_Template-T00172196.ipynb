{
  "cells": [
    {
      "cell_type": "markdown",
      "metadata": {
        "id": "UuU23he_msf6"
      },
      "source": [
        "# Genetic Algorithm Assignment\n",
        "30% of the overall grade for this module\n",
        "\n",
        "Marks indciated in sections below are based on percentage of marks allocated for this module\n",
        "\n",
        "In this assignment you must choose a problem, and attempt to use the Genetic Alogrithm that we developed in class to solve this problem.\n",
        "\n",
        "\n",
        "\n"
      ]
    },
    {
      "cell_type": "markdown",
      "metadata": {
        "id": "xOpdeYD9oLWi"
      },
      "source": [
        "## The Problem         **(~30%)**\n",
        "\n",
        "*   Description of the problem\n",
        "\n",
        "\n",
        "\n"
      ]
    },
    {
      "attachments": {},
      "cell_type": "markdown",
      "metadata": {
        "id": "4uQ4i7aopwP0",
        "slideshow": {
          "slide_type": "notes"
        }
      },
      "source": [
        "\n",
        "Sudoku: A puzzle in which missing numbers are needed to be filled into a 9x9 grid of squares which are subdivided into 3x3 boxes so that every row, every column, and every box contains the numbers 1 through 9. There are different sizes of puzzle the most commom being the 9x9 grid but the size of the grid can vary depending on the difficulty of the puzzle. For this assignment we are only only focusing on 9x9 puzzles although this could be adapted for bigger/smaller puzzles easily enough\n",
        "\n",
        "An example of a starting point for a puzzle might look like: \n",
        "\n",
        "\n",
        "<!-- TODO: -->\n",
        "\n",
        "With the solution then becoming: \n",
        "\n",
        "<!-- ╔═══╤═══╤═══╦═══╤═══╤═══╦═══╤═══╤═══╗\n",
        "║ 8 │ 5 │ 1 ║ 3 │ 9 │ 2 ║ 4 │ 6 │ 7 ║\n",
        "╟───┼───┼───╫───┼───┼───╫───┼───┼───╢\n",
        "║ 7 │ 2 │ 3 ║ 6 │ 1 │ 4 ║ 5 │ 8 │ 9 ║\n",
        "╟───┼───┼───╫───┼───┼───╫───┼───┼───╢\n",
        "║ 4 │ 6 │ 9 ║ 5 │ 7 │ 8 ║ 1 │ 2 │ 3 ║\n",
        "╠═══╪═══╪═══╬═══╪═══╪═══╬═══╪═══╪═══╣\n",
        "║ 9 │ 8 │ 6 ║ 1 │ 4 │ 7 ║ 3 │ 5 │ 2 ║\n",
        "╟───┼───┼───╫───┼───┼───╫───┼───┼───╢\n",
        "║ 3 │ 7 │ 5 ║ 2 │ 6 │ 9 ║ 9 │ 1 │ 4 ║\n",
        "╟───┼───┼───╫───┼───┼───╫───┼───┼───╢\n",
        "║ 1 │ 4 │ 2 ║ 8 │ 5 │ 3 ║ 7 │ 9 │ 6 ║\n",
        "╠═══╪═══╪═══╬═══╪═══╪═══╬═══╪═══╪═══╣\n",
        "║ 2 │ 3 │ 4 ║ 9 │ 8 │ 1 ║ 6 │ 7 │ 5 ║\n",
        "╟───┼───┼───╫───┼───┼───╫───┼───┼───╢\n",
        "║ 6 │ 1 │ 7 ║ 4 │ 2 │ 5 ║ 9 │ 3 │ 8 ║\n",
        "╟───┼───┼───╫───┼───┼───╫───┼───┼───╢\n",
        "║ 5 │ 9 │ 8 ║ 7 │ 3 │ 6 ║ 2 │ 4 │ 1 ║\n",
        "╚═══╧═══╧═══╩═══╧═══╧═══╩═══╧═══╧═══╝ -->\n",
        "\n",
        "\n"
      ]
    },
    {
      "cell_type": "markdown",
      "metadata": {
        "id": "rWvzNi3uqCKy"
      },
      "source": [
        "*   Discussion of the suitablity of Genetic Algorithms\n"
      ]
    },
    {
      "attachments": {},
      "cell_type": "markdown",
      "metadata": {
        "id": "aMzEaqZAqmYT"
      },
      "source": [
        "\n",
        "#### Why is a genetic algorihm suitable?\n",
        "\n",
        "By definition Genetic Algorithms are a search based-optimization technique frequently used to find optimal or near optimal solution to difficult problems https://www.tutorialspoint.com/genetic_algorithms/genetic_algorithms_introduction.htm\n",
        "\n",
        "In the case of a sudoku puzzle, the algorithm can take in a starting point of a puzzle (Example defined above) and generate a population of potential solutions to the puzzle. These potential solutions can then be tested by the cost function to measure how close we are to the correct solution. Then using crossover and mutation functions we can generate new boards using the infomation gathered from the previous generations and discard boards that are not as good as the ones in the population. The overall goal of this is to eventually find boards that are deemed as the correct solution or as close as we can get given the starting point.\n",
        "\n",
        "The cost function:\n",
        "\n",
        "- Have a counter for invalidations\n",
        "- Increase by one for each missing value (0).\n",
        "- Increase by one for each repeated value in rows\n",
        "- Increase by one for each repeated value in columns\n",
        "- Increate by one for each repeated value in a 3x3 box\n"
      ]
    },
    {
      "cell_type": "markdown",
      "metadata": {
        "id": "1c4zr525qHk0"
      },
      "source": [
        "*   Complexity of the problem  (Overall marks allocated based on ..)"
      ]
    },
    {
      "cell_type": "markdown",
      "metadata": {
        "id": "0LgfBTtdq11F"
      },
      "source": [
        "# The problem and the cost function   **(~20%)**"
      ]
    },
    {
      "cell_type": "code",
      "execution_count": 1445,
      "metadata": {
        "id": "rwIdSMNqrPS5"
      },
      "outputs": [],
      "source": [
        "#  insert code in ths cell\n",
        "import numpy as np\n",
        "import random\n",
        "import copy\n",
        "# Create the problem function to create a sudoku board\n",
        "\n",
        "class sudoku_board:\n",
        "    def __init__(self, board):\n",
        "        self.initial_problem = copy.deepcopy(board)\n",
        "        self.board = board\n",
        "        self.rows = self.get_rows(board)\n",
        "        self.columns = self.get_columns(board)\n",
        "        self.boxes = self.get_boxes(board)\n",
        "        self.cost = self.cost_function()\n",
        "\n",
        "    def print_board(self, board):\n",
        "        print('Current Board: ')\n",
        "        for row in board:\n",
        "            print(row)\n",
        "\n",
        "    def update_board(self, board):\n",
        "        self.board = board\n",
        "        self.rows = self.get_rows(self.board)\n",
        "        self.columns = self.get_columns(self.board)\n",
        "        self.boxes = self.get_boxes(self.board)\n",
        "        self.cost = self.cost_function()\n",
        "\n",
        "    def get_rows(self, board):\n",
        "        rows = []\n",
        "        for row in board:\n",
        "            rows.append(row)\n",
        "        return rows\n",
        "\n",
        "    def get_columns(self, board):\n",
        "        columns = []\n",
        "        for coulmns in range(9):\n",
        "            columns.append([board[row][coulmns] for row in range(9)])\n",
        "        return columns\n",
        "\n",
        "    def get_boxes(self, board):\n",
        "        boxes = []\n",
        "        # range(start, stop, step) using syntax of range to get 0, 3rd, 6th as it should generate \n",
        "        # quick test of the range method\n",
        "        for row in range(0, 9, 3):\n",
        "            for column in range(0, 9, 3):\n",
        "                # Using a list with a nested for loop to get all coordinates from the board\n",
        "                # Ex. The first box generated is from \n",
        "                # 0,0 - 0,1, 0,2 - 1,0 - 1,1 - 1,2 - 2,0, 2,1\n",
        "                # https://builtin.com/data-science/nested-list-comprehension-python\n",
        "                # ? Checking Coordinates to see if they match up with what we expect\n",
        "                # Row positions?\n",
        "                # print([row+i for i in range(3)])\n",
        "                # column positions\n",
        "                # print([column+j for j in range(3)])\n",
        "\n",
        "                box = [board[row+i][column+j] for i in range(3) for j in range(3)]\n",
        "                boxes.append(box)\n",
        "        return boxes\n",
        "    \n",
        "    def check_valid_row(self, row):\n",
        "        if (len(row) == len(set(row))):\n",
        "            return True\n",
        "        else: \n",
        "            return False\n",
        "    \n",
        "    \n",
        "    def cost_function(self):\n",
        "        # Count Missing Values across the rows, columns, boxes and return a count of all invalidations across the board\n",
        "        invalid_counts = 0\n",
        "        for row in range(9):\n",
        "            for index in range(9):\n",
        "                if (self.rows[row][index] == 0):\n",
        "                    invalid_counts += 1\n",
        "\n",
        "        # Count repeats in rows\n",
        "        for row in range(9):\n",
        "            # https://stackoverflow.com/questions/49973739/python-how-to-remove-zeroes-from-a-list-in-python\n",
        "            rows_with_empty_values_removed = list(filter(lambda num: num != 0, self.rows[row]))\n",
        "            # Use a set to compare unique element list length to the currently list length with 0's removed \n",
        "            if (len(rows_with_empty_values_removed) != len(set(rows_with_empty_values_removed))):\n",
        "                invalid_counts += 1\n",
        "\n",
        "        # Count repeats in Columns\n",
        "        for index in range(9):\n",
        "            # https://stackoverflow.com/questions/49973739/python-how-to-remove-zeroes-from-a-list-in-python\n",
        "            columns_with_empty_values_removed = list(filter(lambda num: num != 0, self.columns[index]))\n",
        "            # Use a set to compare unique element list length to the currently list length with 0's removed\n",
        "            if (len(columns_with_empty_values_removed) != len(set(columns_with_empty_values_removed))):\n",
        "                invalid_counts += 1\n",
        "\n",
        "        # Count repeats in grid boxes\n",
        "        for index in range(9):\n",
        "            # https://stackoverflow.com/questions/49973739/python-how-to-remove-zeroes-from-a-list-in-python\n",
        "            boxes_with_empty_values_removed = list(filter(lambda num: num != 0, self.boxes[index]))\n",
        "            # Use a set to compare unique element list length to the currently list length with 0's removed\n",
        "            if (len(boxes_with_empty_values_removed) != len(set(boxes_with_empty_values_removed))):\n",
        "                invalid_counts += 1\n",
        "\n",
        "        return invalid_counts\n",
        "        \n",
        "\n",
        "\n",
        "    "
      ]
    },
    {
      "cell_type": "code",
      "execution_count": 1446,
      "metadata": {},
      "outputs": [
        {
          "data": {
            "text/plain": [
              "65"
            ]
          },
          "execution_count": 1446,
          "metadata": {},
          "output_type": "execute_result"
        }
      ],
      "source": [
        "# Example Puzzles - 0 indicates\n",
        "\n",
        "board =  [\n",
        "[8, 5, 0, 0, 0, 2, 4, 0, 0],\n",
        "[7, 2, 0, 0, 0, 0, 0, 0, 9],\n",
        "[0, 0, 0, 0, 0, 0, 0, 0, 0],\n",
        "[0, 0, 0, 0, 0, 0, 0, 0, 2],\n",
        "[3, 0, 0, 0, 0, 0, 0, 0, 0],\n",
        "[0, 0, 0, 0, 0, 0, 0, 0, 0],\n",
        "[0, 0, 0, 0, 8, 0, 0, 7, 0],\n",
        "[0, 1, 7, 0, 0, 0, 0, 0, 0],\n",
        "[0, 0, 0, 0, 3, 6, 0, 4, 0]]\n",
        "\n",
        "board2 =  [\n",
        "[5, 0, 7, 2, 0, 0, 0, 9, 0],\n",
        "[0, 0, 6, 0, 3, 0, 7, 0, 1],\n",
        "[4, 0, 0, 0, 0, 0, 0, 6, 0],\n",
        "[1, 0, 0, 4, 9, 0, 0, 0, 7],\n",
        "[0, 0, 0, 5, 0, 8, 0, 0, 0],\n",
        "[8, 0, 0, 0, 2, 7, 0, 0, 5],\n",
        "[0, 7, 0, 0, 0, 0, 0, 0, 9],\n",
        "[2, 0, 9, 0, 8, 0, 6, 0, 0],\n",
        "[0, 4, 0, 0, 0, 9, 3, 0, 8]]\n",
        "\n",
        "board3 =  [\n",
        "[6, 0, 0, 0, 0, 9, 0, 0, 8],\n",
        "[0, 8, 9, 5, 0, 0, 0, 1, 6],\n",
        "[5, 0, 0, 0, 6, 0, 3, 0, 9],\n",
        "[8, 3, 1, 0, 0, 0, 7, 0, 5],\n",
        "[0, 2, 0, 0, 0, 0, 0, 6, 0],\n",
        "[9, 0, 7, 0, 0, 0, 8, 4, 2],\n",
        "[2, 0, 6, 0, 1, 0, 0, 0, 8],\n",
        "[3, 7, 0, 0, 0, 6, 9, 2, 0],\n",
        "[1, 0, 0, 3, 0, 0, 0, 0, 7]]\n",
        "\n",
        "board4 =  [\n",
        "[5, 0, 7, 2, 0, 0, 0, 9, 0],\n",
        "[0, 0, 6, 0, 3, 0, 7, 0, 1],\n",
        "[4, 0, 0, 0, 0, 0, 0, 6, 0],\n",
        "[1, 0, 0, 4, 9, 0, 0, 0, 7],\n",
        "[0, 0, 0, 5, 0, 8, 0, 0, 0],\n",
        "[8, 0, 0, 0, 2, 7, 0, 0, 5],\n",
        "[0, 7, 0, 0, 0, 0, 0, 0, 9],\n",
        "[2, 0, 9, 0, 8, 0, 6, 0, 0],\n",
        "[0, 4, 0, 0, 0, 9, 3, 0, 8]]\n",
        "\n",
        "sample_solved_to_test_cost =  [\n",
        "[4, 3, 5, 2, 6, 9, 7, 8, 1],\n",
        "[6, 8, 2, 5, 7, 1, 4, 9, 3],\n",
        "[1, 9, 7, 8, 3, 4, 5, 6, 2],\n",
        "[8, 2, 6, 1, 9, 5, 3, 4, 7],\n",
        "[3, 7, 4, 6, 8, 2, 9, 1, 5],\n",
        "[9, 5, 1, 7, 4, 3, 6, 2, 8],\n",
        "[5, 1, 9, 3, 2, 6, 8, 7, 4],\n",
        "[2, 4, 8, 9, 5, 7, 1, 3, 6],\n",
        "[7, 6, 3, 4, 1, 8, 2, 5, 9]]\n",
        "\n",
        "s1 = sudoku_board(board)\n",
        "# s1.print_board(board)\n",
        "\n",
        "s1.cost_function()\n"
      ]
    },
    {
      "cell_type": "markdown",
      "metadata": {
        "id": "wBQQjO4brWFA"
      },
      "source": [
        "# The Individual **(~30%)**\n",
        "\n",
        "\n",
        "*   Chromosone\n",
        "*   Crossover\n",
        "*   Mutation\n",
        "\n"
      ]
    },
    {
      "cell_type": "markdown",
      "metadata": {
        "id": "-Yr5xlW3rx21"
      },
      "source": [
        "## Discussion and justification on the approaches taken for the above"
      ]
    },
    {
      "attachments": {},
      "cell_type": "markdown",
      "metadata": {
        "id": "-5eIa-LKsREQ"
      },
      "source": [
        "---\n",
        "\n",
        "The chromosome will intake a preset board to try and solve\n",
        "\n",
        "- The mutation will take in to account the preset starting point of the puzzle and store the indices from the rows provided by the sudoku board function in a variable called - positions_of_non_preset_values_on_board this will be a list of indices of the non preset values from the puzzle, It will then insert random values in to the child board and return that board (I would have preferred to do this with the 3x3 boxes but didn't have enough time to write a method to regenerate the board using the grids)\n",
        "- The crossover function will then based on the rate of change set within the parameters class will create a new child based on taking 2 parents and selecting a single point cross over with each non preset value taking a 50/50 chance to inherit the parent a or b's value. I chose to do a single point cross over as it seemed a more tidy way to track the evolution of randomness (https://www.tutorialspoint.com/genetic_algorithms/genetic_algorithms_crossover.htm)\n",
        "- Parent selection will be a random sample of the population with the lowest cost function\n",
        "- Population will be culled after max number of generations is reached based on cost function\n",
        "---\n",
        "\n"
      ]
    },
    {
      "cell_type": "code",
      "execution_count": 1447,
      "metadata": {},
      "outputs": [],
      "source": [
        "class individual:\n",
        "    chromosome = None\n",
        "    cost_of_chromosome = 0\n",
        "    positions_of_non_preset_values_on_board = []\n",
        "\n",
        "    def __init__(self, board_to_solve=None):\n",
        "        if (board_to_solve is not None):\n",
        "            self.chromosome = sudoku_board(board_to_solve)\n",
        "            self.cost_of_chromosome = self.chromosome.cost_function()\n",
        "\n",
        "    def get_positions_of_non_preset_values_in_box(self, list):\n",
        "        # https://stackoverflow.com/questions/5419204/index-of-duplicates-items-in-a-python-list\n",
        "        return [i for i, x in enumerate(list) if x == 0]\n",
        "    \n",
        "    def crossover(self, parent2):\n",
        "        # Create a child from the initial problem\n",
        "        child = self.chromosome.initial_problem\n",
        "        # 50/50 chance to choose from either parent\n",
        "        if random.random() < 0.5:\n",
        "            # Remember we only want to select from the non preset values here\n",
        "            for index in range(len(self.positions_of_non_preset_values_on_board)):\n",
        "                for indexj in self.positions_of_non_preset_values_on_board[index]:\n",
        "                    child[index][indexj] = self.chromosome.board[index][indexj]\n",
        "        else: \n",
        "           # Remember we only want to select from the non preset values here\n",
        "            for index in range(len(self.positions_of_non_preset_values_on_board)):\n",
        "                for indexj in self.positions_of_non_preset_values_on_board[index]:\n",
        "                    child[index][indexj] = parent2.chromosome.board[index][indexj]\n",
        "\n",
        "        return child\n",
        "        \n",
        "    \n",
        "    def mutate_board(self):\n",
        "        current_chromosome_rows = self.chromosome.get_rows(self.chromosome.initial_problem)\n",
        "\n",
        "        if not any(self.positions_of_non_preset_values_on_board):\n",
        "                print('here')\n",
        "                for index in range(len(current_chromosome_rows)):\n",
        "                    # Only want to change non preset values from the puzzle\n",
        "                    zero_positions_in_array = self.get_positions_of_non_preset_values_in_box(current_chromosome_rows[index])\n",
        "                    self.positions_of_non_preset_values_on_board.append(zero_positions_in_array)\n",
        "\n",
        "        if (self.chromosome.cost == 0):\n",
        "            # Board is solved no need to return\n",
        "            return self.chromosome\n",
        "        else:\n",
        "            # https://stackoverflow.com/questions/1593564/python-how-to-check-if-a-nested-list-is-essentially-empty\n",
        "            \n",
        "            # Randomise the non preset values on the board\n",
        "            for index in range(len(self.positions_of_non_preset_values_on_board)):\n",
        "                \n",
        "                while (self.chromosome.check_valid_row(current_chromosome_rows[index]) == False):\n",
        "                    for indexj in self.positions_of_non_preset_values_on_board[index]:\n",
        "                        current_chromosome_rows[index][indexj] = random.randint(1, 9)                   \n",
        "                    \n",
        "            self.chromosome.update_board(current_chromosome_rows)\n",
        "            return self.chromosome\n",
        "\n"
      ]
    },
    {
      "cell_type": "code",
      "execution_count": 1448,
      "metadata": {},
      "outputs": [
        {
          "name": "stdout",
          "output_type": "stream",
          "text": [
            "here\n"
          ]
        },
        {
          "data": {
            "text/plain": [
              "[[5, 4, 7, 2, 8, 3, 1, 9, 6],\n",
              " [9, 5, 6, 2, 3, 4, 7, 8, 1],\n",
              " [4, 3, 2, 9, 8, 1, 5, 6, 7],\n",
              " [1, 5, 8, 4, 9, 3, 2, 6, 7],\n",
              " [1, 2, 7, 5, 6, 8, 3, 4, 9],\n",
              " [8, 9, 4, 3, 2, 7, 1, 6, 5],\n",
              " [5, 7, 3, 2, 8, 6, 1, 4, 9],\n",
              " [2, 3, 9, 4, 8, 5, 6, 1, 7],\n",
              " [6, 4, 2, 1, 7, 9, 3, 5, 8]]"
            ]
          },
          "execution_count": 1448,
          "metadata": {},
          "output_type": "execute_result"
        }
      ],
      "source": [
        "best_solution = individual(board_to_solve=board2)\n",
        "best_solution.mutate_board()\n",
        "\n",
        "best_solution.chromosome.board"
      ]
    },
    {
      "cell_type": "code",
      "execution_count": 1449,
      "metadata": {},
      "outputs": [],
      "source": [
        "\n",
        "def choose_two_indices_from(max_number):\n",
        "  ind1 = np.random.randint(max_number)\n",
        "  ind2 = np.random.randint(max_number)\n",
        "  if ind1 == ind2:\n",
        "    return choose_two_indices_from(max_number)\n",
        "\n",
        "  return ind1,ind2\n"
      ]
    },
    {
      "cell_type": "markdown",
      "metadata": {
        "id": "59WmNNhiscZ9"
      },
      "source": [
        "## Running the algorithm  **(~10%)**\n",
        "\n",
        "*   Parameter choices\n",
        "*   Modifications (if any) to run_genetic\n",
        "*   Rationale for the above\n",
        "\n"
      ]
    },
    {
      "cell_type": "markdown",
      "metadata": {
        "id": "n8BK_jFwub_j"
      },
      "source": [
        "---\n",
        "\n",
        "(Double click then ...)  Type Here...\n",
        "\n",
        "---\n",
        "\n",
        "There are only a few parameters needed in this case\n",
        "- Number in population to preset a number of individuals to create\n",
        "- Maximum number of children to generate\n",
        "- parental selection rate to be able to adjust whether we take more from parent 1 or parent 2\n",
        "- there is no real mutation rate as we are altering empty values with random values from 1-9  I suppose we could set one if the board were randmly generated with full values to determine how much to change"
      ]
    },
    {
      "cell_type": "code",
      "execution_count": 1450,
      "metadata": {
        "id": "qYE-UMBos_nR"
      },
      "outputs": [],
      "source": [
        "#  Parameter class here\n",
        "# Code for individual class in here \n",
        "class parameters:\n",
        "    number_in_population = 100\n",
        "    maximum_number_of_generations = 500\n",
        "    parental_selection_rate = 0.5\n",
        "    def __init__(self):\n",
        "        self.number_in_population = 100\n",
        "        self.maximum_number_of_generations = 500\n",
        "        self.parental_selection_rate = 0.5\n",
        "        self.child_rate = 0.6"
      ]
    },
    {
      "cell_type": "code",
      "execution_count": 1456,
      "metadata": {
        "id": "uMURavCWtEan"
      },
      "outputs": [],
      "source": [
        "# Run Genetic method here\n",
        "\n",
        "def run_genetic_algo(problem, parameters=parameters()):\n",
        "    # read in problem\n",
        "    cost = sudoku_board(problem).cost_function()\n",
        "\n",
        "    population = []\n",
        "    best_solution = individual(problem)\n",
        "    best_solution.chromosome.cost = np.Infinity\n",
        "    # Generate initial population, Params not working?????\n",
        "    for i in range(500):\n",
        "        new_individual = copy.deepcopy(individual(problem))\n",
        "        population.append(new_individual)\n",
        "        if (new_individual.cost_of_chromosome < best_solution.cost_of_chromosome):\n",
        "            best_solution = copy.deepcopy(new_individual)\n",
        "\n",
        "    for interation in range(100):\n",
        "        children = []\n",
        "    \n",
        "        # Not sure why but cannot call from params so hard coding here\n",
        "        while len(children) < 100 * 0.6:\n",
        "            parent1_index, parent2_index = choose_two_indices_from(500)\n",
        "            parent1 = population[parent1_index].mutate_board()\n",
        "            parent2 = population[parent2_index].mutate_board()\n",
        "            tempNewP1Individual = individual(parent1.board)\n",
        "            tempNewP2Individual = individual(parent2.board)\n",
        "\n",
        "            child1 = tempNewP1Individual.crossover(tempNewP2Individual)\n",
        "            child2 = tempNewP2Individual.crossover(tempNewP1Individual)\n",
        "\n",
        "            children.append(individual(child1))\n",
        "            children.append(individual(child2))\n",
        "\n",
        "    # add to population\n",
        "    population += children\n",
        "    \n",
        "    # cull population\n",
        "    population = sorted(population, key=lambda x: x.cost_of_chromosome)\n",
        "\n",
        "    # cull population\n",
        "    population = population[:500]\n",
        "\n",
        "    if population[0].cost_of_chromosome < best_solution.cost_of_chromosome:\n",
        "      best_solution = copy.deepcopy(population[0])\n",
        "\n",
        "    # if (population[0].cost_of_chromosome != 0):\n",
        "    #     run_genetic_algo(population[0].chromosome.board)\n",
        "\n",
        "    print(best_solution.chromosome.cost, best_solution.chromosome.print_board(best_solution.chromosome.board))"
      ]
    },
    {
      "cell_type": "code",
      "execution_count": 1457,
      "metadata": {
        "id": "lzt2-_8HtJtr"
      },
      "outputs": [
        {
          "name": "stdout",
          "output_type": "stream",
          "text": [
            "Current Board: \n",
            "[5, 6, 7, 2, 4, 8, 3, 9, 1]\n",
            "[8, 2, 6, 9, 3, 5, 7, 4, 1]\n",
            "[4, 3, 7, 5, 9, 8, 2, 6, 1]\n",
            "[1, 3, 8, 4, 9, 6, 5, 2, 7]\n",
            "[2, 7, 6, 5, 1, 8, 4, 3, 9]\n",
            "[8, 4, 9, 3, 2, 7, 6, 1, 5]\n",
            "[4, 7, 2, 6, 8, 1, 5, 3, 9]\n",
            "[2, 1, 9, 7, 8, 3, 6, 5, 4]\n",
            "[1, 4, 6, 5, 7, 9, 3, 2, 8]\n",
            "17 None\n"
          ]
        }
      ],
      "source": [
        "#  Running of the algorithm with outputs here\n",
        "params = parameters()\n",
        "\n",
        "run_genetic_algo(board2)"
      ]
    },
    {
      "cell_type": "code",
      "execution_count": 1453,
      "metadata": {
        "id": "KUrAxEdDtTmf"
      },
      "outputs": [],
      "source": [
        "#  If changes to params or reruns of iterations dont overwrite, create more cells and copy code down to show evolution of final solution"
      ]
    },
    {
      "cell_type": "markdown",
      "metadata": {
        "id": "Hupr4W2_tmZA"
      },
      "source": [
        "## Results and conclusions    **(~10%)**"
      ]
    },
    {
      "attachments": {},
      "cell_type": "markdown",
      "metadata": {
        "id": "p0Yqo3GeuVtn"
      },
      "source": [
        "---\n",
        "\n",
        "(Double click then ...)  Type Here...\n",
        "\n",
        "---\n",
        "I think if I had managed to do this via the 3x3 boxes to further increase the chances I could have got the cost much much lower, \n"
      ]
    }
  ],
  "metadata": {
    "colab": {
      "provenance": []
    },
    "kernelspec": {
      "display_name": "Python 3",
      "name": "python3"
    },
    "language_info": {
      "codemirror_mode": {
        "name": "ipython",
        "version": 3
      },
      "file_extension": ".py",
      "mimetype": "text/x-python",
      "name": "python",
      "nbconvert_exporter": "python",
      "pygments_lexer": "ipython3",
      "version": "3.10.9"
    }
  },
  "nbformat": 4,
  "nbformat_minor": 0
}
